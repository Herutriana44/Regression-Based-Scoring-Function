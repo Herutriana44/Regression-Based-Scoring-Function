{
 "cells": [
  {
   "cell_type": "markdown",
   "metadata": {},
   "source": [
    "# Preprocessing Function"
   ]
  },
  {
   "cell_type": "code",
   "execution_count": 1,
   "metadata": {},
   "outputs": [],
   "source": [
    "from rdkit import Chem\n",
    "from rdkit.Chem import Descriptors\n",
    "from scipy.constants import e\n",
    "\n",
    "def calculate_amino_acid_center_of_mass(sequence):\n",
    "    try:\n",
    "        amino_acid_masses = []\n",
    "        for aa in sequence:\n",
    "            try:\n",
    "                amino_acid_masses.append(Chem.Descriptors.MolWt(Chem.MolFromSequence(aa)))\n",
    "            except:\n",
    "                return 0\n",
    "                break\n",
    "\n",
    "        # Hitung pusat massa asam amino\n",
    "        total_mass = sum(amino_acid_masses)\n",
    "        center_of_mass = sum(i * mass for i, mass in enumerate(amino_acid_masses, start=1)) / total_mass\n",
    "\n",
    "        return center_of_mass\n",
    "    except:\n",
    "        return 0\n",
    "\n",
    "def calculate_amino_acid_center_of_mass_smiles(sequence):\n",
    "    try:\n",
    "        amino_acid_masses = []\n",
    "        for aa in sequence:\n",
    "            amino_acid_masses.append(Chem.Descriptors.MolWt(Chem.MolFromSmiles(aa)))\n",
    "\n",
    "        # Hitung pusat massa asam amino\n",
    "        total_mass = sum(amino_acid_masses)\n",
    "        center_of_mass = sum(i * mass for i, mass in enumerate(amino_acid_masses, start=1)) / total_mass\n",
    "\n",
    "        return center_of_mass\n",
    "    except:\n",
    "        return 0\n",
    "\n",
    "def calculate_distance_between_amino_acids(aa1, aa2):\n",
    "    # Menghitung jarak antara dua pusat massa asam amino\n",
    "    distance = abs(aa1 - aa2)\n",
    "    return distance"
   ]
  },
  {
   "cell_type": "code",
   "execution_count": 2,
   "metadata": {},
   "outputs": [],
   "source": [
    "from rdkit import Chem\n",
    "from collections import Counter\n",
    "\n",
    "def get_bond_types(molecule_smiles):\n",
    "    mol = Chem.MolFromSmiles(molecule_smiles)\n",
    "    if mol is None:\n",
    "        print(\"Gagal membaca molekul.\")\n",
    "        return None\n",
    "\n",
    "    bond_types = []\n",
    "    for bond in mol.GetBonds():\n",
    "        bond_type = bond.GetBondTypeAsDouble()\n",
    "        bond_types.append(bond_type)\n",
    "\n",
    "    # Menghitung frekuensi tipe ikatan\n",
    "    bond_type_counts = Counter(bond_types)\n",
    "\n",
    "    return bond_type_counts"
   ]
  },
  {
   "cell_type": "code",
   "execution_count": 3,
   "metadata": {},
   "outputs": [],
   "source": [
    "from rdkit import Chem\n",
    "from collections import Counter\n",
    "\n",
    "def count_atoms(molecule_smiles):\n",
    "    mol = Chem.MolFromSmiles(molecule_smiles)\n",
    "    if mol is None:\n",
    "        print(\"Gagal membaca molekul.\")\n",
    "        return None\n",
    "\n",
    "    # Menghitung jumlah atom-atom\n",
    "    atom_counts = Counter([atom.GetSymbol() for atom in mol.GetAtoms()])\n",
    "\n",
    "    return atom_counts"
   ]
  },
  {
   "cell_type": "code",
   "execution_count": 4,
   "metadata": {},
   "outputs": [],
   "source": [
    "from rdkit import Chem\n",
    "from rdkit.Chem import Descriptors\n",
    "\n",
    "def calculate_molecular_weight(molecule_smiles):\n",
    "    mol = Chem.MolFromSmiles(molecule_smiles)\n",
    "    if mol is None:\n",
    "        print(\"Gagal membaca molekul.\")\n",
    "        return None\n",
    "\n",
    "    # Menghitung massa molekul\n",
    "    molecular_weight = Descriptors.MolWt(mol)\n",
    "\n",
    "    return molecular_weight"
   ]
  },
  {
   "cell_type": "code",
   "execution_count": 5,
   "metadata": {},
   "outputs": [],
   "source": [
    "def seq_to_smiles(seq):\n",
    "    try:\n",
    "        mol = Chem.MolFromSequence(seq)\n",
    "        smiles = Chem.MolToSmiles(mol,kekuleSmiles=True)\n",
    "        return str(smiles)\n",
    "    except:\n",
    "        return None\n",
    "\n",
    "def inchi_to_smiles(inchi):\n",
    "    try:\n",
    "        molecule = Chem.MolFromInchi(inchi)\n",
    "        smiles = Chem.MolToSmiles(molecule,kekuleSmiles=True)\n",
    "        return smiles\n",
    "    except:\n",
    "        return None"
   ]
  },
  {
   "cell_type": "code",
   "execution_count": 6,
   "metadata": {},
   "outputs": [],
   "source": [
    "import molecular_scoring\n",
    "\n",
    "MS = molecular_scoring.ms()"
   ]
  },
  {
   "cell_type": "markdown",
   "metadata": {},
   "source": [
    "# Preprocessing"
   ]
  },
  {
   "cell_type": "code",
   "execution_count": 8,
   "metadata": {},
   "outputs": [
    {
     "name": "stderr",
     "output_type": "stream",
     "text": [
      "C:\\Users\\herutriana44\\AppData\\Local\\Temp\\ipykernel_6496\\230982278.py:3: DtypeWarning: Columns (4,6,7,9) have mixed types. Specify dtype option on import or set low_memory=False.\n",
      "  df = pd.read_csv('BindingDB_ALL_LigandTarget_Ki_fixed.csv')\n"
     ]
    }
   ],
   "source": [
    "import pandas as pd\n",
    "\n",
    "df = pd.read_csv('BindingDB_ALL_LigandTarget_Ki_fixed.csv')"
   ]
  },
  {
   "cell_type": "code",
   "execution_count": 9,
   "metadata": {},
   "outputs": [
    {
     "data": {
      "text/html": [
       "<div>\n",
       "<style scoped>\n",
       "    .dataframe tbody tr th:only-of-type {\n",
       "        vertical-align: middle;\n",
       "    }\n",
       "\n",
       "    .dataframe tbody tr th {\n",
       "        vertical-align: top;\n",
       "    }\n",
       "\n",
       "    .dataframe thead th {\n",
       "        text-align: right;\n",
       "    }\n",
       "</style>\n",
       "<table border=\"1\" class=\"dataframe\">\n",
       "  <thead>\n",
       "    <tr style=\"text-align: right;\">\n",
       "      <th></th>\n",
       "      <th>Ligand SMILES</th>\n",
       "      <th>Ligand InChI</th>\n",
       "      <th>Ki (nM)</th>\n",
       "      <th>IC50 (nM)</th>\n",
       "      <th>Kd (nM)</th>\n",
       "      <th>EC50 (nM)</th>\n",
       "      <th>kon (M-1-s-1)</th>\n",
       "      <th>koff (s-1)</th>\n",
       "      <th>pH</th>\n",
       "      <th>Temp (C)</th>\n",
       "      <th>BindingDB Target Chain Sequence</th>\n",
       "    </tr>\n",
       "  </thead>\n",
       "  <tbody>\n",
       "    <tr>\n",
       "      <th>0</th>\n",
       "      <td>O=C1N(C/C=C/C2=CNN=C2)[C@H](CC2=CC=CC=C2)[C@H]...</td>\n",
       "      <td>InChI=1S/C31H34N6O3/c38-29-27(17-23-9-3-1-4-10...</td>\n",
       "      <td>0.25</td>\n",
       "      <td>NaN</td>\n",
       "      <td>NaN</td>\n",
       "      <td>NaN</td>\n",
       "      <td>NaN</td>\n",
       "      <td>NaN</td>\n",
       "      <td>5.5</td>\n",
       "      <td>37.00 C</td>\n",
       "      <td>PQITLWQRPLVTIKIGGQLKEALLDTGADDTVLEEMSLPGRWKPKM...</td>\n",
       "    </tr>\n",
       "    <tr>\n",
       "      <th>1</th>\n",
       "      <td>O=C1N(C/C=C/C2=CNN=C2)[C@H](CC2=CC=CC=C2)[C@H]...</td>\n",
       "      <td>InChI=1S/C29H34N4O3/c34-27-25(16-21-8-3-1-4-9-...</td>\n",
       "      <td>0.41</td>\n",
       "      <td>NaN</td>\n",
       "      <td>NaN</td>\n",
       "      <td>NaN</td>\n",
       "      <td>NaN</td>\n",
       "      <td>NaN</td>\n",
       "      <td>5.5</td>\n",
       "      <td>37.00 C</td>\n",
       "      <td>PQITLWQRPLVTIKIGGQLKEALLDTGADDTVLEEMSLPGRWKPKM...</td>\n",
       "    </tr>\n",
       "    <tr>\n",
       "      <th>2</th>\n",
       "      <td>O=C1N(CCCCCCO)[C@H](CC2=CC=CC=C2)[C@H](O)[C@@H...</td>\n",
       "      <td>InChI=1S/C29H40N2O4/c32-18-10-2-1-9-17-30-25(1...</td>\n",
       "      <td>0.8</td>\n",
       "      <td>NaN</td>\n",
       "      <td>NaN</td>\n",
       "      <td>NaN</td>\n",
       "      <td>NaN</td>\n",
       "      <td>NaN</td>\n",
       "      <td>5.5</td>\n",
       "      <td>37.00 C</td>\n",
       "      <td>PQITLWQRPLVTIKIGGQLKEALLDTGADDTVLEEMSLPGRWKPKM...</td>\n",
       "    </tr>\n",
       "    <tr>\n",
       "      <th>3</th>\n",
       "      <td>O=C1N(CCCCCO)[C@H](CC2=CC=CC=C2)[C@H](O)[C@@H]...</td>\n",
       "      <td>InChI=1S/C28H38N2O4/c31-17-9-3-8-16-29-24(18-2...</td>\n",
       "      <td>0.99</td>\n",
       "      <td>NaN</td>\n",
       "      <td>NaN</td>\n",
       "      <td>NaN</td>\n",
       "      <td>NaN</td>\n",
       "      <td>NaN</td>\n",
       "      <td>5.5</td>\n",
       "      <td>37.00 C</td>\n",
       "      <td>PQITLWQRPLVTIKIGGQLKEALLDTGADDTVLEEMSLPGRWKPKM...</td>\n",
       "    </tr>\n",
       "    <tr>\n",
       "      <th>4</th>\n",
       "      <td>CCCCN1C(=O)N(CC2CC2)[C@H](CC2=CC=CC=C2)[C@H](O...</td>\n",
       "      <td>InChI=1S/C27H36N2O3/c1-2-3-16-28-23(17-20-10-6...</td>\n",
       "      <td>1.1</td>\n",
       "      <td>NaN</td>\n",
       "      <td>NaN</td>\n",
       "      <td>NaN</td>\n",
       "      <td>NaN</td>\n",
       "      <td>NaN</td>\n",
       "      <td>5.5</td>\n",
       "      <td>37.00 C</td>\n",
       "      <td>PQITLWQRPLVTIKIGGQLKEALLDTGADDTVLEEMSLPGRWKPKM...</td>\n",
       "    </tr>\n",
       "  </tbody>\n",
       "</table>\n",
       "</div>"
      ],
      "text/plain": [
       "                                       Ligand SMILES  \\\n",
       "0  O=C1N(C/C=C/C2=CNN=C2)[C@H](CC2=CC=CC=C2)[C@H]...   \n",
       "1  O=C1N(C/C=C/C2=CNN=C2)[C@H](CC2=CC=CC=C2)[C@H]...   \n",
       "2  O=C1N(CCCCCCO)[C@H](CC2=CC=CC=C2)[C@H](O)[C@@H...   \n",
       "3  O=C1N(CCCCCO)[C@H](CC2=CC=CC=C2)[C@H](O)[C@@H]...   \n",
       "4  CCCCN1C(=O)N(CC2CC2)[C@H](CC2=CC=CC=C2)[C@H](O...   \n",
       "\n",
       "                                        Ligand InChI Ki (nM) IC50 (nM)  \\\n",
       "0  InChI=1S/C31H34N6O3/c38-29-27(17-23-9-3-1-4-10...    0.25       NaN   \n",
       "1  InChI=1S/C29H34N4O3/c34-27-25(16-21-8-3-1-4-9-...    0.41       NaN   \n",
       "2  InChI=1S/C29H40N2O4/c32-18-10-2-1-9-17-30-25(1...     0.8       NaN   \n",
       "3  InChI=1S/C28H38N2O4/c31-17-9-3-8-16-29-24(18-2...    0.99       NaN   \n",
       "4  InChI=1S/C27H36N2O3/c1-2-3-16-28-23(17-20-10-6...     1.1       NaN   \n",
       "\n",
       "  Kd (nM) EC50 (nM) kon (M-1-s-1) koff (s-1)   pH Temp (C)  \\\n",
       "0     NaN       NaN           NaN        NaN  5.5  37.00 C   \n",
       "1     NaN       NaN           NaN        NaN  5.5  37.00 C   \n",
       "2     NaN       NaN           NaN        NaN  5.5  37.00 C   \n",
       "3     NaN       NaN           NaN        NaN  5.5  37.00 C   \n",
       "4     NaN       NaN           NaN        NaN  5.5  37.00 C   \n",
       "\n",
       "                     BindingDB Target Chain Sequence  \n",
       "0  PQITLWQRPLVTIKIGGQLKEALLDTGADDTVLEEMSLPGRWKPKM...  \n",
       "1  PQITLWQRPLVTIKIGGQLKEALLDTGADDTVLEEMSLPGRWKPKM...  \n",
       "2  PQITLWQRPLVTIKIGGQLKEALLDTGADDTVLEEMSLPGRWKPKM...  \n",
       "3  PQITLWQRPLVTIKIGGQLKEALLDTGADDTVLEEMSLPGRWKPKM...  \n",
       "4  PQITLWQRPLVTIKIGGQLKEALLDTGADDTVLEEMSLPGRWKPKM...  "
      ]
     },
     "execution_count": 9,
     "metadata": {},
     "output_type": "execute_result"
    }
   ],
   "source": [
    "df.head()"
   ]
  },
  {
   "cell_type": "code",
   "execution_count": 30,
   "metadata": {},
   "outputs": [
    {
     "data": {
      "text/plain": [
       "110299"
      ]
     },
     "execution_count": 30,
     "metadata": {},
     "output_type": "execute_result"
    }
   ],
   "source": [
    "df['Ligand SMILES'].isna().sum()"
   ]
  },
  {
   "cell_type": "code",
   "execution_count": 31,
   "metadata": {},
   "outputs": [
    {
     "data": {
      "text/plain": [
       "2772868"
      ]
     },
     "execution_count": 31,
     "metadata": {},
     "output_type": "execute_result"
    }
   ],
   "source": [
    "len(df)"
   ]
  },
  {
   "cell_type": "code",
   "execution_count": null,
   "metadata": {},
   "outputs": [],
   "source": [
    "# df['Ligand SMILES'] = [inchi_to_smiles(df['Ligand InChI'][i]) for i in range(len(df))]\n",
    "# df.to_csv('BindingDB_ALL_LigandTarget_Ki_fixed.csv', index=False)"
   ]
  },
  {
   "cell_type": "code",
   "execution_count": 10,
   "metadata": {},
   "outputs": [],
   "source": [
    "df = df.dropna(subset='Ligand SMILES')\n",
    "df = df.reset_index()"
   ]
  },
  {
   "cell_type": "code",
   "execution_count": 27,
   "metadata": {},
   "outputs": [
    {
     "data": {
      "text/plain": [
       "538.6520000000002"
      ]
     },
     "execution_count": 27,
     "metadata": {},
     "output_type": "execute_result"
    }
   ],
   "source": [
    "Chem.Descriptors.MolWt(Chem.MolFromSmiles(df['Ligand SMILES'][0]))"
   ]
  },
  {
   "cell_type": "code",
   "execution_count": 39,
   "metadata": {},
   "outputs": [],
   "source": [
    "# center_of_mass_target = []\n",
    "# for i in range(len(df)):\n",
    "#     center_of_mass_target.append(calculate_amino_acid_center_of_mass(str(df['BindingDB Target Chain Sequence'][i])))"
   ]
  },
  {
   "cell_type": "code",
   "execution_count": 11,
   "metadata": {},
   "outputs": [],
   "source": [
    "df['Center Of Mass Target'] = [calculate_amino_acid_center_of_mass(str(df['BindingDB Target Chain Sequence'][i])) for i in range(len(df))]\n",
    "df.to_csv('BindingDB_ALL_LigandTarget_Ki_fixed.csv', index=False)"
   ]
  },
  {
   "cell_type": "code",
   "execution_count": null,
   "metadata": {},
   "outputs": [],
   "source": [
    "df['Center Of Mass Ligand'] = [calculate_amino_acid_center_of_mass_smiles(str(df['Ligand SMILES'][i])) for i in range(len(df))]\n",
    "df.to_csv('BindingDB_ALL_LigandTarget_Ki_fixed.csv', index=False)"
   ]
  },
  {
   "cell_type": "code",
   "execution_count": null,
   "metadata": {},
   "outputs": [],
   "source": [
    "df['Distance'] = [calculate_distance_between_amino_acids(df['Center Of Mass Ligand'][i], df['Center Of Mass Target'][i]) for i in range(len(df))]\n",
    "df.to_csv('BindingDB_ALL_LigandTarget_Ki_fixed.csv', index=False)"
   ]
  },
  {
   "cell_type": "code",
   "execution_count": null,
   "metadata": {},
   "outputs": [],
   "source": [
    "df['Ligand Weight'] = [calculate_molecular_weight(str(df['Ligand SMILES'][i])) for i in range(len(df))]\n",
    "df.to_csv('BindingDB_ALL_LigandTarget_Ki_fixed.csv', index=False)"
   ]
  },
  {
   "cell_type": "code",
   "execution_count": null,
   "metadata": {},
   "outputs": [],
   "source": [
    "df['Target SMILES'] = [seq_to_smiles(df['BindingDB Target Chain Sequence'][i]) for i in range(len(df))]\n",
    "df.to_csv('BindingDB_ALL_LigandTarget_Ki_fixed.csv', index=False)"
   ]
  },
  {
   "cell_type": "code",
   "execution_count": null,
   "metadata": {},
   "outputs": [],
   "source": [
    "df['Target Weight'] = [calculate_molecular_weight(str(df['Target SMILES'][i])) for i in range(len(df))]\n",
    "df.to_csv('BindingDB_ALL_LigandTarget_Ki_fixed.csv', index=False)"
   ]
  },
  {
   "cell_type": "code",
   "execution_count": null,
   "metadata": {},
   "outputs": [],
   "source": [
    "df['Attractive'] = [MS.attractive_energy(df['Distance'][i]) for i in range(len(df))]\n",
    "df.to_csv('BindingDB_ALL_LigandTarget_Ki_fixed.csv', index=False)"
   ]
  },
  {
   "cell_type": "code",
   "execution_count": null,
   "metadata": {},
   "outputs": [],
   "source": [
    "df['Repulsive'] = [MS.repulsive_energy(df['Distance'][i]) for i in range(len(df))]\n",
    "df.to_csv('BindingDB_ALL_LigandTarget_Ki_fixed.csv', index=False)"
   ]
  },
  {
   "cell_type": "code",
   "execution_count": null,
   "metadata": {},
   "outputs": [],
   "source": [
    "df['Coulomb Energy'] = [MS.coulomb_energy(e, e, df['Distance'][i]) for i in range(len(df))]\n",
    "df.to_csv('BindingDB_ALL_LigandTarget_Ki_fixed.csv', index=False)"
   ]
  },
  {
   "cell_type": "code",
   "execution_count": null,
   "metadata": {},
   "outputs": [],
   "source": [
    "df['LJ force(eV/Å)'] = [MS.lj_force(df['Distance'][i]) for i in range(len(df))]\n",
    "df.to_csv('BindingDB_ALL_LigandTarget_Ki_fixed.csv', index=False)"
   ]
  }
 ],
 "metadata": {
  "kernelspec": {
   "display_name": "Python 3 (ipykernel)",
   "language": "python",
   "name": "python3"
  },
  "language_info": {
   "codemirror_mode": {
    "name": "ipython",
    "version": 3
   },
   "file_extension": ".py",
   "mimetype": "text/x-python",
   "name": "python",
   "nbconvert_exporter": "python",
   "pygments_lexer": "ipython3",
   "version": "3.11.4"
  }
 },
 "nbformat": 4,
 "nbformat_minor": 2
}

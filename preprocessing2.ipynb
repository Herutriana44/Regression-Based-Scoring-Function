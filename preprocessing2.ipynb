{
 "cells": [
  {
   "cell_type": "markdown",
   "metadata": {},
   "source": [
    "# Preprocessing Function"
   ]
  },
  {
   "cell_type": "code",
   "execution_count": 9,
   "metadata": {},
   "outputs": [],
   "source": [
    "from rdkit import Chem\n",
    "from rdkit.Chem import Descriptors\n",
    "from scipy.constants import e\n",
    "\n",
    "def calculate_amino_acid_center_of_mass(sequence):\n",
    "    try:\n",
    "        amino_acid_masses = []\n",
    "        for aa in sequence:\n",
    "            try:\n",
    "                amino_acid_masses.append(Chem.Descriptors.MolWt(Chem.MolFromSequence(aa)))\n",
    "            except:\n",
    "                return 0\n",
    "                break\n",
    "\n",
    "        # Hitung pusat massa asam amino\n",
    "        total_mass = sum(amino_acid_masses)\n",
    "        center_of_mass = sum(i * mass for i, mass in enumerate(amino_acid_masses, start=1)) / total_mass\n",
    "\n",
    "        return center_of_mass\n",
    "    except:\n",
    "        return 0\n",
    "\n",
    "def calculate_amino_acid_center_of_mass_smiles(sequence):\n",
    "    try:\n",
    "        amino_acid_masses = []\n",
    "        for aa in sequence:\n",
    "            amino_acid_masses.append(Chem.Descriptors.MolWt(Chem.MolFromSmiles(aa)))\n",
    "\n",
    "        # Hitung pusat massa asam amino\n",
    "        total_mass = sum(amino_acid_masses)\n",
    "        center_of_mass = sum(i * mass for i, mass in enumerate(amino_acid_masses, start=1)) / total_mass\n",
    "\n",
    "        return center_of_mass\n",
    "    except:\n",
    "        return 0\n",
    "\n",
    "def calculate_distance_between_amino_acids(aa1, aa2):\n",
    "    # Menghitung jarak antara dua pusat massa asam amino\n",
    "    distance = abs(aa1 - aa2)\n",
    "    return distance"
   ]
  },
  {
   "cell_type": "code",
   "execution_count": 10,
   "metadata": {},
   "outputs": [],
   "source": [
    "from rdkit import Chem\n",
    "from collections import Counter\n",
    "\n",
    "def get_bond_types(molecule_smiles):\n",
    "    mol = Chem.MolFromSmiles(molecule_smiles)\n",
    "    if mol is None:\n",
    "        print(\"Gagal membaca molekul.\")\n",
    "        return None\n",
    "\n",
    "    bond_types = []\n",
    "    for bond in mol.GetBonds():\n",
    "        bond_type = bond.GetBondTypeAsDouble()\n",
    "        bond_types.append(bond_type)\n",
    "\n",
    "    # Menghitung frekuensi tipe ikatan\n",
    "    bond_type_counts = Counter(bond_types)\n",
    "\n",
    "    return bond_type_counts"
   ]
  },
  {
   "cell_type": "code",
   "execution_count": 11,
   "metadata": {},
   "outputs": [],
   "source": [
    "from rdkit import Chem\n",
    "from collections import Counter\n",
    "\n",
    "def count_atoms(molecule_smiles):\n",
    "    mol = Chem.MolFromSmiles(molecule_smiles)\n",
    "    if mol is None:\n",
    "        print(\"Gagal membaca molekul.\")\n",
    "        return None\n",
    "\n",
    "    # Menghitung jumlah atom-atom\n",
    "    atom_counts = Counter([atom.GetSymbol() for atom in mol.GetAtoms()])\n",
    "\n",
    "    return atom_counts"
   ]
  },
  {
   "cell_type": "code",
   "execution_count": 12,
   "metadata": {},
   "outputs": [],
   "source": [
    "from rdkit import Chem\n",
    "from rdkit.Chem import Descriptors\n",
    "\n",
    "def calculate_molecular_weight(molecule_smiles):\n",
    "    try:\n",
    "        mol = Chem.MolFromSmiles(molecule_smiles)\n",
    "        if mol is None:\n",
    "            print(\"Gagal membaca molekul.\")\n",
    "            return None\n",
    "\n",
    "        # Menghitung massa molekul\n",
    "        molecular_weight = Descriptors.MolWt(mol)\n",
    "\n",
    "        return molecular_weight\n",
    "    except:\n",
    "        return None"
   ]
  },
  {
   "cell_type": "code",
   "execution_count": 13,
   "metadata": {},
   "outputs": [],
   "source": [
    "def seq_to_smiles(seq):\n",
    "    try:\n",
    "        mol = Chem.MolFromSequence(seq)\n",
    "        smiles = Chem.MolToSmiles(mol,kekuleSmiles=True)\n",
    "        return str(smiles)\n",
    "    except:\n",
    "        return None\n",
    "\n",
    "def inchi_to_smiles(inchi):\n",
    "    try:\n",
    "        molecule = Chem.MolFromInchi(inchi)\n",
    "        smiles = Chem.MolToSmiles(molecule,kekuleSmiles=True)\n",
    "        return smiles\n",
    "    except:\n",
    "        return None"
   ]
  },
  {
   "cell_type": "code",
   "execution_count": 14,
   "metadata": {},
   "outputs": [],
   "source": [
    "import molecular_scoring\n",
    "\n",
    "MS = molecular_scoring.ms()"
   ]
  },
  {
   "cell_type": "markdown",
   "metadata": {},
   "source": [
    "# Preprocessing Data"
   ]
  },
  {
   "cell_type": "code",
   "execution_count": 15,
   "metadata": {},
   "outputs": [],
   "source": [
    "import pandas as pd"
   ]
  },
  {
   "cell_type": "code",
   "execution_count": 16,
   "metadata": {},
   "outputs": [
    {
     "name": "stderr",
     "output_type": "stream",
     "text": [
      "C:\\Users\\herutriana44\\AppData\\Local\\Temp\\ipykernel_19400\\23900896.py:2: DtypeWarning: Columns (4,6,7,9) have mixed types. Specify dtype option on import or set low_memory=False.\n",
      "  df = pd.read_csv('BindingDB_ALL_LigandTarget_Ki_fixed.csv').dropna(subset=['Ligand SMILES']).reset_index()\n"
     ]
    }
   ],
   "source": [
    "# Load the data\n",
    "df = pd.read_csv('BindingDB_ALL_LigandTarget_Ki_fixed.csv').dropna(subset=['Ligand SMILES']).reset_index()\n",
    "# df['Ligand SMILES'] = \"\"\n",
    "# df['Center Of Mass Target'] = 0.0\n",
    "# df['Center Of Mass Ligand'] = 0.0\n",
    "# df['Distance'] = 0.0\n",
    "# df['Ligand Weight'] = 0.0\n",
    "# df['Target Weight'] = 0.0\n",
    "# df['Attractive'] = 0.0\n",
    "# df['Repulsive'] = 0.0\n",
    "# df['Coulomb Energy'] = 0.0\n",
    "# df['LJ force(eV/Å)'] = 0.0"
   ]
  },
  {
   "cell_type": "code",
   "execution_count": null,
   "metadata": {},
   "outputs": [],
   "source": [
    "interval = 100\n",
    "start = 0\n",
    "\n",
    "# Calculate properties and add columns\n",
    "for i in range(start*interval, len(df), interval):\n",
    "    end_idx = min(i + interval, len(df))\n",
    "    batch_df = df[i:end_idx]\n",
    "\n",
    "    batch_df['Ligand SMILES'] = \"\"\n",
    "    batch_df['Center Of Mass Target'] = 0.0\n",
    "    batch_df['Center Of Mass Ligand'] = 0.0\n",
    "    batch_df['Distance'] = 0.0\n",
    "    batch_df['Ligand Weight'] = 0.0\n",
    "    batch_df['Target Weight'] = 0.0\n",
    "    batch_df['Attractive'] = 0.0\n",
    "    batch_df['Repulsive'] = 0.0\n",
    "    batch_df['Coulomb Energy'] = 0.0\n",
    "    batch_df['LJ force(eV/Å)'] = 0.0\n",
    "\n",
    "\n",
    "    batch_df['Ligand SMILES'] = batch_df['Ligand InChI'].apply(inchi_to_smiles)\n",
    "    batch_df['Center Of Mass Target'] = batch_df['BindingDB Target Chain Sequence'].apply(calculate_amino_acid_center_of_mass)\n",
    "    batch_df['Center Of Mass Ligand'] = batch_df['Ligand SMILES'].apply(calculate_amino_acid_center_of_mass_smiles)\n",
    "    batch_df['Distance'] = batch_df.apply(lambda row: calculate_distance_between_amino_acids(row['Center Of Mass Ligand'], row['Center Of Mass Target']), axis=1)\n",
    "    batch_df['Ligand Weight'] = batch_df['Ligand SMILES'].apply(calculate_molecular_weight)\n",
    "    batch_df['Target SMILES'] = batch_df['BindingDB Target Chain Sequence'].apply(seq_to_smiles)\n",
    "    batch_df['Target Weight'] = batch_df['Target SMILES'].apply(calculate_molecular_weight)\n",
    "    batch_df['Attractive'] = batch_df['Distance'].apply(MS.attractive_energy)\n",
    "    batch_df['Repulsive'] = batch_df['Distance'].apply(MS.repulsive_energy)\n",
    "    batch_df['LJ force(eV/Å)'] = batch_df['Distance'].apply(MS.lj_force)\n",
    "    batch_df['Coulomb Energy'] = batch_df['Distance'].apply(lambda dist: MS.coulomb_energy(e, e, dist))\n",
    "\n",
    "    output_file = f'batch_preprocessing/output_batch_{i // interval}.csv'\n",
    "    batch_df.to_csv(output_file, index=False)\n",
    "\n",
    "    print(f'Processed batch {i // interval}')\n",
    "\n",
    "print('Processing completed.')\n"
   ]
  }
 ],
 "metadata": {
  "kernelspec": {
   "display_name": "Python 3",
   "language": "python",
   "name": "python3"
  },
  "language_info": {
   "codemirror_mode": {
    "name": "ipython",
    "version": 3
   },
   "file_extension": ".py",
   "mimetype": "text/x-python",
   "name": "python",
   "nbconvert_exporter": "python",
   "pygments_lexer": "ipython3",
   "version": "3.11.4"
  },
  "orig_nbformat": 4
 },
 "nbformat": 4,
 "nbformat_minor": 2
}

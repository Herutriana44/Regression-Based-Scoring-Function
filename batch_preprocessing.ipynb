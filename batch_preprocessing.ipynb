{
 "cells": [
  {
   "cell_type": "markdown",
   "metadata": {},
   "source": [
    "# Preprocessing Function"
   ]
  },
  {
   "cell_type": "code",
   "execution_count": 1,
   "metadata": {},
   "outputs": [],
   "source": [
    "from rdkit import Chem\n",
    "from rdkit.Chem import Descriptors\n",
    "from scipy.constants import e\n",
    "\n",
    "def calculate_amino_acid_center_of_mass(sequence):\n",
    "    try:\n",
    "        amino_acid_masses = []\n",
    "        for aa in sequence:\n",
    "            try:\n",
    "                amino_acid_masses.append(Chem.Descriptors.MolWt(Chem.MolFromSequence(aa)))\n",
    "            except:\n",
    "                return 0\n",
    "                break\n",
    "\n",
    "        # Hitung pusat massa asam amino\n",
    "        total_mass = sum(amino_acid_masses)\n",
    "        center_of_mass = sum(i * mass for i, mass in enumerate(amino_acid_masses, start=1)) / total_mass\n",
    "\n",
    "        return center_of_mass\n",
    "    except:\n",
    "        return 0\n",
    "\n",
    "def calculate_amino_acid_center_of_mass_smiles(sequence):\n",
    "    try:\n",
    "        amino_acid_masses = []\n",
    "        for aa in sequence:\n",
    "            amino_acid_masses.append(Chem.Descriptors.MolWt(Chem.MolFromSmiles(aa)))\n",
    "\n",
    "        # Hitung pusat massa asam amino\n",
    "        total_mass = sum(amino_acid_masses)\n",
    "        center_of_mass = sum(i * mass for i, mass in enumerate(amino_acid_masses, start=1)) / total_mass\n",
    "\n",
    "        return center_of_mass\n",
    "    except:\n",
    "        return 0\n",
    "\n",
    "def calculate_distance_between_amino_acids(aa1, aa2):\n",
    "    # Menghitung jarak antara dua pusat massa asam amino\n",
    "    distance = abs(aa1 - aa2)\n",
    "    return distance"
   ]
  },
  {
   "cell_type": "code",
   "execution_count": 2,
   "metadata": {},
   "outputs": [],
   "source": [
    "from rdkit import Chem\n",
    "from collections import Counter\n",
    "\n",
    "def get_bond_types(molecule_smiles):\n",
    "    mol = Chem.MolFromSmiles(molecule_smiles)\n",
    "    if mol is None:\n",
    "        print(\"Gagal membaca molekul.\")\n",
    "        return None\n",
    "\n",
    "    bond_types = []\n",
    "    for bond in mol.GetBonds():\n",
    "        bond_type = bond.GetBondTypeAsDouble()\n",
    "        bond_types.append(bond_type)\n",
    "\n",
    "    # Menghitung frekuensi tipe ikatan\n",
    "    bond_type_counts = Counter(bond_types)\n",
    "\n",
    "    return bond_type_counts"
   ]
  },
  {
   "cell_type": "code",
   "execution_count": 3,
   "metadata": {},
   "outputs": [],
   "source": [
    "from rdkit import Chem\n",
    "from collections import Counter\n",
    "\n",
    "def count_atoms(molecule_smiles):\n",
    "    mol = Chem.MolFromSmiles(molecule_smiles)\n",
    "    if mol is None:\n",
    "        print(\"Gagal membaca molekul.\")\n",
    "        return None\n",
    "\n",
    "    # Menghitung jumlah atom-atom\n",
    "    atom_counts = Counter([atom.GetSymbol() for atom in mol.GetAtoms()])\n",
    "\n",
    "    return atom_counts"
   ]
  },
  {
   "cell_type": "code",
   "execution_count": null,
   "metadata": {},
   "outputs": [],
   "source": []
  },
  {
   "cell_type": "code",
   "execution_count": 4,
   "metadata": {},
   "outputs": [],
   "source": [
    "def seq_to_smiles(seq):\n",
    "    try:\n",
    "        mol = Chem.MolFromSequence(seq)\n",
    "        smiles = Chem.MolToSmiles(mol,kekuleSmiles=True)\n",
    "        return str(smiles)\n",
    "    except:\n",
    "        return None\n",
    "\n",
    "def inchi_to_smiles(inchi):\n",
    "    try:\n",
    "        molecule = Chem.MolFromInchi(inchi)\n",
    "        smiles = Chem.MolToSmiles(molecule,kekuleSmiles=True)\n",
    "        return smiles\n",
    "    except:\n",
    "        return None"
   ]
  },
  {
   "cell_type": "code",
   "execution_count": 5,
   "metadata": {},
   "outputs": [
    {
     "name": "stdout",
     "output_type": "stream",
     "text": [
      "Protein Sequence Result: \n"
     ]
    }
   ],
   "source": [
    "from rdkit import Chem\n",
    "from rdkit.Chem import MolFromSmiles, MolToSequence\n",
    "\n",
    "def smiles_to_protein_sequence(smiles):\n",
    "    try:\n",
    "        mol = MolFromSmiles(smiles)\n",
    "        if mol:\n",
    "            # Ubah molekul menjadi sequence\n",
    "            protein_sequence = MolToSequence(mol)\n",
    "            return protein_sequence\n",
    "        else:\n",
    "            return None\n",
    "    except Exception as e:\n",
    "        print(\"Error:\", str(e))\n",
    "        return None\n",
    "\n",
    "# Contoh penggunaan\n",
    "smiles = \"CC(C)(C)OC(O)=N[C@@H](CC1=CC=C(OCCN2CCOCC2)C=C1)[C@@H](O)C[C@@H](CC1=CC=CC=C1)C(O)=N[C@H]1C2=CC=CC=C2C[C@H]1O\"\n",
    "protein_sequence_result = smiles_to_protein_sequence(smiles)\n",
    "print(\"Protein Sequence Result:\", protein_sequence_result)\n"
   ]
  },
  {
   "cell_type": "code",
   "execution_count": 2,
   "metadata": {},
   "outputs": [],
   "source": [
    "from rdkit.Chem import rdDistGeom\n",
    "import rdkit.DistanceGeometry as DG\n",
    "\n",
    "mol = Chem.MolFromSmiles(\"C1CCC1C\")\n",
    "mol = Chem.AddHs(mol)\n",
    "bm = rdDistGeom.GetMoleculeBoundsMatrix(mol)\n",
    "bm[0,3] = 1.21\n",
    "bm[3,0] = 1.20\n",
    "bm[2,3] = 1.21\n",
    "bm[3,2] = 1.20\n",
    "bm[4,3] = 1.21\n",
    "bm[3,4] = 1.20\n",
    "DG.DoTriangleSmoothing(bm)\n",
    "\n",
    "params.SetBoundsMat(bm)"
   ]
  },
  {
   "cell_type": "code",
   "execution_count": 20,
   "metadata": {},
   "outputs": [],
   "source": [
    "df = pd.read_csv(batch_file[6777])"
   ]
  },
  {
   "cell_type": "code",
   "execution_count": 27,
   "metadata": {},
   "outputs": [
    {
     "data": {
      "text/plain": [
       "'CC1(C)CCC(CN2CCN(C3=CC(OC4=CNC5=NC=CC5=C4)=C(C(O)=NS(=O)(=O)C4=CC([N+](=O)[O-])=C(NCC5CCOCC5)C=C4)C=C3)CC2)=C(C23CC(C)(C2)C3)C1'"
      ]
     },
     "execution_count": 27,
     "metadata": {},
     "output_type": "execute_result"
    }
   ],
   "source": [
    "df['Ligand SMILES'][4]"
   ]
  },
  {
   "cell_type": "code",
   "execution_count": 28,
   "metadata": {},
   "outputs": [
    {
     "name": "stdout",
     "output_type": "stream",
     "text": [
      "Conformer 1:\n"
     ]
    },
    {
     "ename": "ValueError",
     "evalue": "Bad Conformer Id",
     "output_type": "error",
     "traceback": [
      "\u001b[1;31m---------------------------------------------------------------------------\u001b[0m",
      "\u001b[1;31mValueError\u001b[0m                                Traceback (most recent call last)",
      "\u001b[1;32me:\\Users\\herutriana44\\Documents\\BioDataset\\ProteinBinding\\batch_preprocessing.ipynb Cell 11\u001b[0m line \u001b[0;36m2\n\u001b[0;32m     <a href='vscode-notebook-cell:/e%3A/Users/herutriana44/Documents/BioDataset/ProteinBinding/batch_preprocessing.ipynb#X55sZmlsZQ%3D%3D?line=22'>23</a>\u001b[0m \u001b[39mfor\u001b[39;00m i \u001b[39min\u001b[39;00m \u001b[39mrange\u001b[39m(\u001b[39m3\u001b[39m):\n\u001b[0;32m     <a href='vscode-notebook-cell:/e%3A/Users/herutriana44/Documents/BioDataset/ProteinBinding/batch_preprocessing.ipynb#X55sZmlsZQ%3D%3D?line=23'>24</a>\u001b[0m     \u001b[39mprint\u001b[39m(\u001b[39mf\u001b[39m\u001b[39m\"\u001b[39m\u001b[39mConformer \u001b[39m\u001b[39m{\u001b[39;00mi\u001b[39m \u001b[39m\u001b[39m+\u001b[39m\u001b[39m \u001b[39m\u001b[39m1\u001b[39m\u001b[39m}\u001b[39;00m\u001b[39m:\u001b[39m\u001b[39m\"\u001b[39m)\n\u001b[1;32m---> <a href='vscode-notebook-cell:/e%3A/Users/herutriana44/Documents/BioDataset/ProteinBinding/batch_preprocessing.ipynb#X55sZmlsZQ%3D%3D?line=24'>25</a>\u001b[0m     \u001b[39mfor\u001b[39;00m atom \u001b[39min\u001b[39;00m mol\u001b[39m.\u001b[39;49mGetConformer(i)\u001b[39m.\u001b[39mGetPositions():\n\u001b[0;32m     <a href='vscode-notebook-cell:/e%3A/Users/herutriana44/Documents/BioDataset/ProteinBinding/batch_preprocessing.ipynb#X55sZmlsZQ%3D%3D?line=25'>26</a>\u001b[0m         \u001b[39mprint\u001b[39m(atom)\n\u001b[0;32m     <a href='vscode-notebook-cell:/e%3A/Users/herutriana44/Documents/BioDataset/ProteinBinding/batch_preprocessing.ipynb#X55sZmlsZQ%3D%3D?line=26'>27</a>\u001b[0m     \u001b[39mprint\u001b[39m(\u001b[39m\"\u001b[39m\u001b[39m\\n\u001b[39;00m\u001b[39m\"\u001b[39m)\n",
      "\u001b[1;31mValueError\u001b[0m: Bad Conformer Id"
     ]
    }
   ],
   "source": [
    "from rdkit import Chem\n",
    "from rdkit.Chem import AllChem\n",
    "\n",
    "# Contoh molekul (ubah sesuai dengan kebutuhan)\n",
    "smiles = 'CC1(C)CCC(CN2CCN(C3=CC(OC4=CNC5=NC=CC5=C4)=C(C(O)=NS(=O)(=O)C4=CC([N+](=O)[O-])=C(NCC5CCOCC5)C=C4)C=C3)CC2)=C(C23CC(C)(C2)C3)C1'\n",
    "\n",
    "# Membuat objek Molecule dari smiles\n",
    "mol = Chem.MolFromSmiles(smiles)\n",
    "\n",
    "# Menambahkan hidrogen ke molekul\n",
    "mol = Chem.AddHs(mol)\n",
    "\n",
    "# Menggunakan ETKDGv3 untuk generasi conformer\n",
    "params = AllChem.ETKDGv3()\n",
    "params.useSmallRingTorsions = True  # Menggunakan small ring torsions\n",
    "params.useRandomCoords = True\n",
    "params.SetCPCI({ (0,3) : 0.9 } )\n",
    "\n",
    "# Generasi conformer\n",
    "AllChem.EmbedMultipleConfs(mol, numConfs=3, params=params)\n",
    "\n",
    "# Menampilkan hasil generasi conformer\n",
    "for i in range(3):\n",
    "    print(f\"Conformer {i + 1}:\")\n",
    "    for atom in mol.GetConformer(i).GetPositions():\n",
    "        print(atom)\n",
    "    print(\"\\n\")\n"
   ]
  },
  {
   "cell_type": "code",
   "execution_count": 6,
   "metadata": {},
   "outputs": [],
   "source": [
    "from rdkit.Chem import AllChem\n",
    "\n",
    "def generate_conformer(molecule_smiles):\n",
    "    mol = Chem.MolFromSmiles(molecule_smiles)\n",
    "    mol = Chem.AddHs(mol)  # Add hydrogens for a more accurate 3D structure\n",
    "    conformer = AllChem.EmbedMolecule(mol, useRandomCoords=True, randomSeed=42)  # Generate a conformer\n",
    "    return mol\n"
   ]
  },
  {
   "cell_type": "code",
   "execution_count": 7,
   "metadata": {},
   "outputs": [],
   "source": [
    "from rdkit import Chem\n",
    "from rdkit.Chem import rdMolTransforms\n",
    "\n",
    "def calculate_molecular_center_of_mass(smiles):\n",
    "    molecule = generate_conformer(smiles)\n",
    "    try:\n",
    "        if molecule is None:\n",
    "            return None\n",
    "\n",
    "        # Hitung pusat massa molekul\n",
    "        center_of_mass = rdMolTransforms.ComputeCentroid(molecule.GetConformer())\n",
    "        total_mass = Descriptors.MolWt(molecule)\n",
    "        # print(center_of_mass)\n",
    "        # print(total_mass)\n",
    "        center_of_mass = sum([center_of_mass[i] * total_mass for i in range(len(center_of_mass))]) / total_mass\n",
    "        # print(total_mass)\n",
    "        \n",
    "        return center_of_mass\n",
    "    except Exception as e:\n",
    "        print(\"Error:\", str(e))\n",
    "        return None\n"
   ]
  },
  {
   "cell_type": "code",
   "execution_count": 8,
   "metadata": {},
   "outputs": [],
   "source": [
    "from rdkit import Chem\n",
    "from rdkit.Chem import Descriptors\n",
    "\n",
    "def calculate_molecular_weight(molecule_smiles):\n",
    "    try:\n",
    "        mol = generate_conformer(molecule_smiles)\n",
    "        if mol is None:\n",
    "            print(\"Gagal membaca molekul.\")\n",
    "            return None\n",
    "\n",
    "        # Menghitung massa molekul\n",
    "        molecular_weight = Descriptors.MolWt(mol)\n",
    "\n",
    "        return molecular_weight\n",
    "    except:\n",
    "        return None"
   ]
  },
  {
   "cell_type": "code",
   "execution_count": 9,
   "metadata": {},
   "outputs": [],
   "source": [
    "import molecular_scoring\n",
    "\n",
    "MS = molecular_scoring.ms()"
   ]
  },
  {
   "cell_type": "code",
   "execution_count": 10,
   "metadata": {},
   "outputs": [],
   "source": [
    "import pandas as pd\n",
    "import os\n",
    "import warnings\n",
    "\n",
    "# Menonaktifkan semua warnings\n",
    "warnings.filterwarnings('ignore')"
   ]
  },
  {
   "cell_type": "markdown",
   "metadata": {},
   "source": [
    "# Main Preprocessing"
   ]
  },
  {
   "cell_type": "code",
   "execution_count": 11,
   "metadata": {},
   "outputs": [],
   "source": [
    "batch_dir = \"data_batch/\"\n",
    "batch_file = [batch_dir+i for i in os.listdir(batch_dir)]"
   ]
  },
  {
   "cell_type": "code",
   "execution_count": 12,
   "metadata": {},
   "outputs": [],
   "source": [
    "def preprocessing(name_file, j):\n",
    "    df = pd.read_csv(name_file)\n",
    "    df['Ligand SMILES'] = [inchi_to_smiles(df['Ligand InChI'][i]) for i in range(len(df))]\n",
    "    # df['Center Of Mass Target'] = [calculate_amino_acid_center_of_mass(str(df['BindingDB Target Chain Sequence'][i])) for i in range(len(df))]\n",
    "    df['Center Of Mass Ligand'] = [calculate_amino_acid_center_of_mass_smiles(str(df['Ligand SMILES'][i])) for i in range(len(df))]\n",
    "    df['Distance'] = [calculate_distance_between_amino_acids(df['Center Of Mass Ligand'][i], df['Center Of Mass Target'][i]) for i in range(len(df))]\n",
    "    print('4')\n",
    "    df['Ligand Weight'] = [calculate_molecular_weight(str(df['Ligand SMILES'][i])) for i in range(len(df))]\n",
    "    print('5')\n",
    "    df['Target SMILES'] = [seq_to_smiles(df['BindingDB Target Chain Sequence'][i]) for i in range(len(df))]\n",
    "    print('6')\n",
    "    df['Target Weight'] = [calculate_molecular_weight(str(df['Target SMILES'][i])) for i in range(len(df))]\n",
    "    print('7')\n",
    "    df['Attractive'] = [MS.attractive_energy(df['Distance'][i]) for i in range(len(df))]\n",
    "    print('8')\n",
    "    df['Repulsive'] = [MS.repulsive_energy(df['Distance'][i]) for i in range(len(df))]\n",
    "    print('9')\n",
    "    df['LJ force(eV/Å)'] = [MS.lj_force(df['Distance'][i]) for i in range(len(df))]\n",
    "    print('10')\n",
    "    df['Coulomb Energy'] =[MS.coulomb_energy(e, e, df['Distance'][i]) for i in range(len(df))]\n",
    "    print('11')\n",
    "\n",
    "    output_file = f'data_batch_preprocessing/output_batch_{j}.csv'\n",
    "    df.to_csv(output_file, index=False)\n",
    "    print(output_file)"
   ]
  },
  {
   "cell_type": "code",
   "execution_count": 12,
   "metadata": {},
   "outputs": [
    {
     "name": "stdout",
     "output_type": "stream",
     "text": [
      "0\n"
     ]
    },
    {
     "name": "stdout",
     "output_type": "stream",
     "text": [
      "1\n",
      "Error: Bad Conformer Id\n",
      "Error: Bad Conformer Id\n",
      "Error: Bad Conformer Id\n",
      "Error: Bad Conformer Id\n",
      "Error: Bad Conformer Id\n",
      "Error: Bad Conformer Id\n",
      "Error: Bad Conformer Id\n",
      "Error: Bad Conformer Id\n",
      "5\n",
      "data_batch_preprocessing/output_batch_6777.csv\n",
      "0\n",
      "1\n",
      "Error: Bad Conformer Id\n",
      "Error: Bad Conformer Id\n",
      "Error: Bad Conformer Id\n",
      "Error: Bad Conformer Id\n",
      "Error: Bad Conformer Id\n",
      "Error: Bad Conformer Id\n",
      "Error: Bad Conformer Id\n"
     ]
    }
   ],
   "source": [
    "begin = 6778\n",
    "for j in range(begin,len(batch_file)):\n",
    "    df = pd.read_csv(batch_file[j])\n",
    "    print('0')\n",
    "    df['Ligand SMILES'] = [inchi_to_smiles(df['Ligand InChI'][i]) for i in range(len(df))]\n",
    "    print('1')\n",
    "#     df['Center Of Mass Target'] = [calculate_amino_acid_center_of_mass(str(df['BindingDB Target Chain Sequence'][i])) for i in range(len(df))]\n",
    "#     print('2')\n",
    "    df['Center Of Mass Ligand'] = [calculate_molecular_center_of_mass(str(df['Ligand SMILES'][i])) for i in range(len(df))]\n",
    "#     print('3')\n",
    "#     df['Distance'] = [calculate_distance_between_amino_acids(df['Center Of Mass Ligand'][i], df['Center Of Mass Target'][i]) for i in range(len(df))]\n",
    "#     print('4')\n",
    "    df['Ligand Weight'] = [calculate_molecular_weight(str(df['Ligand SMILES'][i])) for i in range(len(df))]\n",
    "    print('5')\n",
    "    # df['Target SMILES'] = [seq_to_smiles(df['BindingDB Target Chain Sequence'][i]) for i in range(len(df))]\n",
    "    # print('6')\n",
    "    # df['Target Weight'] = [calculate_molecular_weight(str(df['Target SMILES'][i])) for i in range(len(df))]\n",
    "    # print('7')\n",
    "    # df['Attractive'] = [MS.attractive_energy(df['Distance'][i]) for i in range(len(df))]\n",
    "    # print('8')\n",
    "    # df['Repulsive'] = [MS.repulsive_energy(df['Distance'][i]) for i in range(len(df))]\n",
    "    # print('9')\n",
    "    # df['LJ force(eV/Å)'] = [MS.lj_force(df['Distance'][i]) for i in range(len(df))]\n",
    "    # print('10')\n",
    "    # df['Coulomb Energy'] =[MS.coulomb_energy(e, e, df['Distance'][i]) for i in range(len(df))]\n",
    "    # print('11')\n",
    "\n",
    "    output_file = f'data_batch_preprocessing/output_batch_{j}.csv'\n",
    "    df.to_csv(output_file, index=False)\n",
    "    print(output_file)"
   ]
  },
  {
   "cell_type": "code",
   "execution_count": 17,
   "metadata": {},
   "outputs": [],
   "source": [
    "import pandas as pd\n",
    "df = pd.read_csv(batch_file[2])"
   ]
  },
  {
   "cell_type": "code",
   "execution_count": 22,
   "metadata": {},
   "outputs": [
    {
     "data": {
      "text/plain": [
       "'InChI=1S/C39H51N3O7/c1-39(2,3)49-38(46)40-33(24-28-13-15-31(16-14-28)48-22-19-42-17-20-47-21-18-42)34(43)26-30(23-27-9-5-4-6-10-27)37(45)41-36-32-12-8-7-11-29(32)25-35(36)44/h4-16,30,33-36,43-44H,17-26H2,1-3H3,(H,40,46)(H,41,45)/t30-,33+,34+,35-,36+/m1/s1'"
      ]
     },
     "execution_count": 22,
     "metadata": {},
     "output_type": "execute_result"
    }
   ],
   "source": [
    "df['Ligand InChI'][0]"
   ]
  },
  {
   "cell_type": "code",
   "execution_count": null,
   "metadata": {},
   "outputs": [],
   "source": []
  },
  {
   "cell_type": "code",
   "execution_count": 5,
   "metadata": {},
   "outputs": [
    {
     "data": {
      "text/plain": [
       "99"
      ]
     },
     "execution_count": 5,
     "metadata": {},
     "output_type": "execute_result"
    }
   ],
   "source": [
    "tes_max = max([len(i) for i in df['BindingDB Target Chain Sequence']])\n",
    "tes_max"
   ]
  },
  {
   "cell_type": "code",
   "execution_count": 7,
   "metadata": {},
   "outputs": [
    {
     "name": "stdout",
     "output_type": "stream",
     "text": [
      "PQITLWQRPLVTIKIGGQLKEALLDTGADDTVLEEMNLPGRWKPKMIGGIGGFIKVRQYDQILIEICGHKAIGTVLVGPTPVNIIGRNLLTQIGCTLNF\n",
      "PQITLWQRPLVTIKIGGQLKEALLDTGADDTVLEEMNLPGRWKPKMIGGIGGFIKVRQYDQILIEICGHKAIGTVLVGPTPVNIIGRNLLTQIGCTLNF\n",
      "PQITLWQRPLVTIKIGGQLKEALLDTGADDTVLEEMNLPGRWKPKMIGGIGGFIKVRQYDQILIEICGHKAIGTVLVGPTPVNIIGRNLLTQIGCTLNF\n",
      "PQITLWQRPLVTIKIGGQLKEALLDTGADDTVLEEMNLPGRWKPKMIGGIGGFIKVRQYDQILIEICGHKAIGTVLVGPTPVNIIGRNLLTQIGCTLNF\n",
      "PQITLWQRPLVTIKIGGQLKEALLDTGADDTVLEEMNLPGRWKPKMIGGIGGFIKVRQYDQILIEICGHKAIGTVLVGPTPVNIIGRNLLTQIGCTLNF\n",
      "PQITLWQRPLVTIKIGGQLKEALLDTGADDTVLEEMNLPGRWKPKMIGGIGGFIKVRQYDQILIEICGHKAIGTVLVGPTPVNIIGRNLLTQIGCTLNF\n",
      "PQITLWQRPLVTIKIGGQLKEALLDTGADDTVLEEMNLPGRWKPKMIGGIGGFIKVRQYDQILIEICGHKAIGTVLVGPTPVNIIGRNLLTQIGCTLNF\n",
      "PQITLWQRPLVTIKIGGQLKEALLDTGADDTVLEEMNLPGRWKPKMIGGIGGFIKVRQYDQILIEICGHKAIGTVLVGPTPVNIIGRNLLTQIGCTLNF\n",
      "PQITLWQRPLVTIKIGGQLKEALLDTGADDTVLEEMNLPGRWKPKMIGGIGGFIKVRQYDQILIEICGHKAIGTVLVGPTPVNIIGRNLLTQIGCTLNF\n",
      "PQITLWQRPLVTIKIGGQLKEALLDTGADDTVLEEMNLPGRWKPKMIGGIGGFIKVRQYDQILIEICGHKAIGTVLVGPTPVNIIGRNLLTQIGCTLNF\n"
     ]
    }
   ],
   "source": [
    "for i in range(len(df)):\n",
    "    if len(df['BindingDB Target Chain Sequence'][i]) == tes_max:\n",
    "        print(df['BindingDB Target Chain Sequence'][i])"
   ]
  },
  {
   "cell_type": "code",
   "execution_count": 8,
   "metadata": {},
   "outputs": [],
   "source": [
    "# DF = pd.read_csv('BindingDB_ALL_LigandTarget_Ki_fixed.csv')"
   ]
  },
  {
   "cell_type": "markdown",
   "metadata": {},
   "source": [
    "# Target Preprocessing"
   ]
  },
  {
   "cell_type": "code",
   "execution_count": 8,
   "metadata": {},
   "outputs": [],
   "source": [
    "df_target = pd.read_csv('BindingDB_Target.csv')"
   ]
  },
  {
   "cell_type": "code",
   "execution_count": 13,
   "metadata": {},
   "outputs": [],
   "source": [
    "def flatten_list(nested_list):\n",
    "    flattened_list = []\n",
    "    for item in nested_list:\n",
    "        if isinstance(item, list):\n",
    "            flattened_list.extend(flatten_list(item))\n",
    "        else:\n",
    "            flattened_list.append(item)\n",
    "    return flattened_list"
   ]
  },
  {
   "cell_type": "code",
   "execution_count": 14,
   "metadata": {},
   "outputs": [],
   "source": [
    "all_seq = set(flatten_list([list(set(df_target['Target Sequence'][i])) for i in range(len(df_target))]))"
   ]
  },
  {
   "cell_type": "code",
   "execution_count": 17,
   "metadata": {},
   "outputs": [
    {
     "data": {
      "text/plain": [
       "56"
      ]
     },
     "execution_count": 17,
     "metadata": {},
     "output_type": "execute_result"
    }
   ],
   "source": [
    "len(all_seq)"
   ]
  },
  {
   "cell_type": "code",
   "execution_count": 18,
   "metadata": {},
   "outputs": [],
   "source": [
    "from rdkit import Chem\n",
    "from rdkit.Chem import MolFromSequence, MolToSmiles\n",
    "\n",
    "def convert_protein_to_smiles(protein_sequence):\n",
    "    # Pisahkan protein sequence menjadi bagian-bagian (misalnya, setiap 100 karakter)\n",
    "    chunk_size = 100\n",
    "    chunks = [protein_sequence[i:i+chunk_size] for i in range(0, len(protein_sequence), chunk_size)]\n",
    "    \n",
    "    # Ubah setiap bagian menjadi SMILES\n",
    "    smiles_chunks = []\n",
    "    for chunk in chunks:\n",
    "        mol = MolFromSequence(chunk)\n",
    "        if mol:\n",
    "            smiles_chunk = MolToSmiles(mol)\n",
    "            smiles_chunks.append(smiles_chunk)\n",
    "    \n",
    "    # Gabungkan hasil SMILES\n",
    "    combined_smiles = ''.join(smiles_chunks)\n",
    "    return combined_smiles"
   ]
  },
  {
   "cell_type": "code",
   "execution_count": 19,
   "metadata": {},
   "outputs": [],
   "source": [
    "smiles_tes = convert_protein_to_smiles(df_target['Target Sequence'][42])"
   ]
  },
  {
   "cell_type": "code",
   "execution_count": 21,
   "metadata": {},
   "outputs": [
    {
     "data": {
      "text/plain": [
       "20072"
      ]
     },
     "execution_count": 21,
     "metadata": {},
     "output_type": "execute_result"
    }
   ],
   "source": []
  },
  {
   "cell_type": "code",
   "execution_count": 10,
   "metadata": {},
   "outputs": [],
   "source": [
    "# all_target = list(DF['BindingDB Target Chain Sequence'].unique())"
   ]
  },
  {
   "cell_type": "code",
   "execution_count": 11,
   "metadata": {},
   "outputs": [],
   "source": [
    "# df_target = pd.DataFrame({'Target Sequence' : all_target})"
   ]
  },
  {
   "cell_type": "code",
   "execution_count": 12,
   "metadata": {},
   "outputs": [],
   "source": [
    "# df_target.to_csv('BindingDB_Target.csv',index=False)"
   ]
  },
  {
   "cell_type": "code",
   "execution_count": 9,
   "metadata": {},
   "outputs": [
    {
     "data": {
      "text/html": [
       "<div>\n",
       "<style scoped>\n",
       "    .dataframe tbody tr th:only-of-type {\n",
       "        vertical-align: middle;\n",
       "    }\n",
       "\n",
       "    .dataframe tbody tr th {\n",
       "        vertical-align: top;\n",
       "    }\n",
       "\n",
       "    .dataframe thead th {\n",
       "        text-align: right;\n",
       "    }\n",
       "</style>\n",
       "<table border=\"1\" class=\"dataframe\">\n",
       "  <thead>\n",
       "    <tr style=\"text-align: right;\">\n",
       "      <th></th>\n",
       "      <th>Target Sequence</th>\n",
       "      <th>Target SMILES</th>\n",
       "    </tr>\n",
       "  </thead>\n",
       "  <tbody>\n",
       "    <tr>\n",
       "      <th>0</th>\n",
       "      <td>PQITLWQRPLVTIKIGGQLKEALLDTGADDTVLEEMSLPGRWKPKM...</td>\n",
       "      <td>CC[C@H](C)[C@H](NC(=O)CNC(=O)CNC(=O)[C@@H](NC(...</td>\n",
       "    </tr>\n",
       "    <tr>\n",
       "      <th>1</th>\n",
       "      <td>PQITLWKRPIVTVKIGGQLREALLDTGADDTVLEDINLPGKWKPKM...</td>\n",
       "      <td>CC[C@H](C)[C@H](NC(=O)CNC(=O)[C@@H](NC(=O)[C@@...</td>\n",
       "    </tr>\n",
       "    <tr>\n",
       "      <th>2</th>\n",
       "      <td>MALIPDLAMETWLLLAVSLVLLYLYGTHSHGLFKKLGIPGPTPLPF...</td>\n",
       "      <td>CC[C@H](C)[C@H](NC(=O)[C@H](C)NC(=O)[C@H](CC(C...</td>\n",
       "    </tr>\n",
       "    <tr>\n",
       "      <th>3</th>\n",
       "      <td>MAALRQPQVAELLAEARRAFREEFGAEPELAVSAPGRVNLIGEHTD...</td>\n",
       "      <td>CC[C@H](C)[C@H](NC(=O)[C@H](CC(C)C)NC(=O)[C@H]...</td>\n",
       "    </tr>\n",
       "    <tr>\n",
       "      <th>4</th>\n",
       "      <td>PQITLWQRPLVTIKIGGQLKEALLDTGADDTVLEEMNLPGRWKPKM...</td>\n",
       "      <td>CC[C@H](C)[C@H](NC(=O)CNC(=O)CNC(=O)[C@@H](NC(...</td>\n",
       "    </tr>\n",
       "  </tbody>\n",
       "</table>\n",
       "</div>"
      ],
      "text/plain": [
       "                                     Target Sequence  \\\n",
       "0  PQITLWQRPLVTIKIGGQLKEALLDTGADDTVLEEMSLPGRWKPKM...   \n",
       "1  PQITLWKRPIVTVKIGGQLREALLDTGADDTVLEDINLPGKWKPKM...   \n",
       "2  MALIPDLAMETWLLLAVSLVLLYLYGTHSHGLFKKLGIPGPTPLPF...   \n",
       "3  MAALRQPQVAELLAEARRAFREEFGAEPELAVSAPGRVNLIGEHTD...   \n",
       "4  PQITLWQRPLVTIKIGGQLKEALLDTGADDTVLEEMNLPGRWKPKM...   \n",
       "\n",
       "                                       Target SMILES  \n",
       "0  CC[C@H](C)[C@H](NC(=O)CNC(=O)CNC(=O)[C@@H](NC(...  \n",
       "1  CC[C@H](C)[C@H](NC(=O)CNC(=O)[C@@H](NC(=O)[C@@...  \n",
       "2  CC[C@H](C)[C@H](NC(=O)[C@H](C)NC(=O)[C@H](CC(C...  \n",
       "3  CC[C@H](C)[C@H](NC(=O)[C@H](CC(C)C)NC(=O)[C@H]...  \n",
       "4  CC[C@H](C)[C@H](NC(=O)CNC(=O)CNC(=O)[C@@H](NC(...  "
      ]
     },
     "execution_count": 9,
     "metadata": {},
     "output_type": "execute_result"
    }
   ],
   "source": [
    "df_target.head()"
   ]
  },
  {
   "cell_type": "code",
   "execution_count": 22,
   "metadata": {},
   "outputs": [],
   "source": [
    "# begin = 0\n",
    "# for i in range(begin, len(df_target)):\n",
    "#     df_target['Target SMILES'][i] = convert_protein_to_smiles(df_target['Target Sequence'][i])\n",
    "#     df_target.to_csv('BindingDB_Target.csv',index=False)"
   ]
  },
  {
   "cell_type": "code",
   "execution_count": 10,
   "metadata": {},
   "outputs": [
    {
     "name": "stderr",
     "output_type": "stream",
     "text": [
      "[09:41:35] SMILES Parse Error: syntax error while parsing: nan\n",
      "[09:41:35] SMILES Parse Error: Failed parsing SMILES 'nan' for input: 'nan'\n"
     ]
    },
    {
     "name": "stdout",
     "output_type": "stream",
     "text": [
      "Gagal membaca molekul.\n"
     ]
    },
    {
     "name": "stderr",
     "output_type": "stream",
     "text": [
      "[09:54:03] SMILES Parse Error: syntax error while parsing: nan\n",
      "[09:54:03] SMILES Parse Error: Failed parsing SMILES 'nan' for input: 'nan'\n"
     ]
    },
    {
     "name": "stdout",
     "output_type": "stream",
     "text": [
      "Gagal membaca molekul.\n"
     ]
    },
    {
     "name": "stderr",
     "output_type": "stream",
     "text": [
      "[09:54:45] Explicit valence for atom # 3151 O, 3, is greater than permitted\n"
     ]
    },
    {
     "name": "stdout",
     "output_type": "stream",
     "text": [
      "Gagal membaca molekul.\n"
     ]
    },
    {
     "name": "stderr",
     "output_type": "stream",
     "text": [
      "[10:05:16] Explicit valence for atom # 16641 O, 3, is greater than permitted\n"
     ]
    },
    {
     "name": "stdout",
     "output_type": "stream",
     "text": [
      "Gagal membaca molekul.\n"
     ]
    },
    {
     "name": "stderr",
     "output_type": "stream",
     "text": [
      "[10:07:21] Explicit valence for atom # 2454 O, 3, is greater than permitted\n"
     ]
    },
    {
     "name": "stdout",
     "output_type": "stream",
     "text": [
      "Gagal membaca molekul.\n"
     ]
    },
    {
     "name": "stderr",
     "output_type": "stream",
     "text": [
      "[10:09:01] Explicit valence for atom # 3148 O, 3, is greater than permitted\n"
     ]
    },
    {
     "name": "stdout",
     "output_type": "stream",
     "text": [
      "Gagal membaca molekul.\n"
     ]
    },
    {
     "name": "stderr",
     "output_type": "stream",
     "text": [
      "[10:22:59] SMILES Parse Error: syntax error while parsing: nan\n",
      "[10:22:59] SMILES Parse Error: Failed parsing SMILES 'nan' for input: 'nan'\n"
     ]
    },
    {
     "name": "stdout",
     "output_type": "stream",
     "text": [
      "Gagal membaca molekul.\n"
     ]
    },
    {
     "name": "stderr",
     "output_type": "stream",
     "text": [
      "[10:28:11] Explicit valence for atom # 852 O, 3, is greater than permitted\n"
     ]
    },
    {
     "name": "stdout",
     "output_type": "stream",
     "text": [
      "Gagal membaca molekul.\n"
     ]
    },
    {
     "name": "stderr",
     "output_type": "stream",
     "text": [
      "[10:31:11] Explicit valence for atom # 2337 O, 3, is greater than permitted\n"
     ]
    },
    {
     "name": "stdout",
     "output_type": "stream",
     "text": [
      "Gagal membaca molekul.\n"
     ]
    },
    {
     "name": "stderr",
     "output_type": "stream",
     "text": [
      "[10:33:50] Explicit valence for atom # 2339 O, 3, is greater than permitted\n"
     ]
    },
    {
     "name": "stdout",
     "output_type": "stream",
     "text": [
      "Gagal membaca molekul.\n"
     ]
    },
    {
     "name": "stderr",
     "output_type": "stream",
     "text": [
      "[10:35:51] Explicit valence for atom # 2298 O, 3, is greater than permitted\n"
     ]
    },
    {
     "name": "stdout",
     "output_type": "stream",
     "text": [
      "Gagal membaca molekul.\n"
     ]
    },
    {
     "name": "stderr",
     "output_type": "stream",
     "text": [
      "[10:36:40] Explicit valence for atom # 2343 O, 3, is greater than permitted\n"
     ]
    },
    {
     "name": "stdout",
     "output_type": "stream",
     "text": [
      "Gagal membaca molekul.\n"
     ]
    }
   ],
   "source": [
    "df_target['Target Weight'] = [calculate_molecular_weight(str(df_target['Target SMILES'][i])) for i in range(len(df_target))]\n",
    "df_target.to_csv('BindingDB_Target.csv',index=False)"
   ]
  },
  {
   "cell_type": "code",
   "execution_count": 11,
   "metadata": {},
   "outputs": [],
   "source": [
    "df_target['Center Of Mass Target'] = [calculate_amino_acid_center_of_mass(str(df_target['Target Sequence'][i])) for i in range(len(df_target))]\n",
    "df_target.to_csv('BindingDB_Target.csv',index=False)"
   ]
  },
  {
   "cell_type": "code",
   "execution_count": 13,
   "metadata": {},
   "outputs": [],
   "source": [
    "df_target = df_target.dropna(subset=\"Target SMILES\")"
   ]
  },
  {
   "cell_type": "code",
   "execution_count": 15,
   "metadata": {},
   "outputs": [],
   "source": [
    "df_target.to_csv('BindingDB_Target.csv',index=False)"
   ]
  },
  {
   "cell_type": "code",
   "execution_count": null,
   "metadata": {},
   "outputs": [],
   "source": []
  }
 ],
 "metadata": {
  "kernelspec": {
   "display_name": "Python 3 (ipykernel)",
   "language": "python",
   "name": "python3"
  },
  "language_info": {
   "codemirror_mode": {
    "name": "ipython",
    "version": 3
   },
   "file_extension": ".py",
   "mimetype": "text/x-python",
   "name": "python",
   "nbconvert_exporter": "python",
   "pygments_lexer": "ipython3",
   "version": "3.11.4"
  }
 },
 "nbformat": 4,
 "nbformat_minor": 2
}
